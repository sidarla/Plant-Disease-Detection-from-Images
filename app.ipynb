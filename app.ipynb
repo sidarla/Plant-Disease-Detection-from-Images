{
 "cells": [
  {
   "cell_type": "code",
   "execution_count": 12,
   "metadata": {},
   "outputs": [
    {
     "name": "stdout",
     "output_type": "stream",
     "text": [
      "All files have valid image extensions.\n"
     ]
    }
   ],
   "source": [
    "import os\n",
    "\n",
    "# Specify the directory where your images are stored\n",
    "dataset_dir = r'C:\\Users\\Dell\\OneDrive\\Desktop\\database\\Plant_disease_detection\\archive (6)\\New Plant Diseases Dataset(Augmented)\\New Plant Diseases Dataset(Augmented)'\n",
    "\n",
    "# Supported image file extensions\n",
    "valid_extensions = ('.jpg', '.jpeg', '.png', '.bmp', '.tiff', '.tif', '.ppm', '.pgm', '.webp')\n",
    "\n",
    "# Function to check file extensions in each class folder\n",
    "def check_file_extensions(directory):\n",
    "    invalid_files = []\n",
    "    \n",
    "    # Walk through all subdirectories and files\n",
    "    for root, dirs, files in os.walk(directory):\n",
    "        for file in files:\n",
    "            if not file.lower().endswith(valid_extensions):\n",
    "                invalid_files.append(os.path.join(root, file))\n",
    "    \n",
    "    return invalid_files\n",
    "\n",
    "# Check the train and valid datasets\n",
    "invalid_files_train = check_file_extensions(os.path.join(dataset_dir, 'train'))\n",
    "invalid_files_valid = check_file_extensions(os.path.join(dataset_dir, 'valid'))\n",
    "\n",
    "# Print invalid files if found\n",
    "if invalid_files_train:\n",
    "    print(\"Invalid files in 'train' folder:\")\n",
    "    for f in invalid_files_train:\n",
    "        print(f)\n",
    "\n",
    "if invalid_files_valid:\n",
    "    print(\"Invalid files in 'valid' folder:\")\n",
    "    for f in invalid_files_valid:\n",
    "        print(f)\n",
    "\n",
    "if not invalid_files_train and not invalid_files_valid:\n",
    "    print(\"All files have valid image extensions.\")\n"
   ]
  },
  {
   "cell_type": "code",
   "execution_count": 13,
   "metadata": {},
   "outputs": [
    {
     "name": "stdout",
     "output_type": "stream",
     "text": [
      "No empty folders found.\n"
     ]
    }
   ],
   "source": [
    "import os\n",
    "\n",
    "def check_empty_folders(directory):\n",
    "    empty_folders = []\n",
    "    \n",
    "    # Walk through all subdirectories\n",
    "    for root, dirs, files in os.walk(directory):\n",
    "        if len(files) == 0 and len(dirs) == 0:  # No files and no subfolders\n",
    "            empty_folders.append(root)\n",
    "    \n",
    "    return empty_folders\n",
    "\n",
    "# Check for empty folders in 'train' and 'valid' directories\n",
    "empty_folders_train = check_empty_folders(os.path.join(dataset_dir, 'train'))\n",
    "empty_folders_valid = check_empty_folders(os.path.join(dataset_dir, 'valid'))\n",
    "\n",
    "# Print empty folders if found\n",
    "if empty_folders_train:\n",
    "    print(\"Empty folders in 'train' folder:\")\n",
    "    for folder in empty_folders_train:\n",
    "        print(folder)\n",
    "\n",
    "if empty_folders_valid:\n",
    "    print(\"Empty folders in 'valid' folder:\")\n",
    "    for folder in empty_folders_valid:\n",
    "        print(folder)\n",
    "\n",
    "if not empty_folders_train and not empty_folders_valid:\n",
    "    print(\"No empty folders found.\")\n"
   ]
  },
  {
   "cell_type": "code",
   "execution_count": 1,
   "metadata": {},
   "outputs": [
    {
     "name": "stdout",
     "output_type": "stream",
     "text": [
      "['Apple___Apple_scab', 'Apple___Black_rot', 'Apple___Cedar_apple_rust', 'Apple___healthy', 'Blueberry___healthy', 'Cherry_(including_sour)___healthy', 'Cherry_(including_sour)___Powdery_mildew', 'Corn_(maize)___Common_rust_', 'Corn_(maize)___healthy', 'Corn_(maize)___Northern_Leaf_Blight', 'Grape___Black_rot', 'Grape___Esca_(Black_Measles)', 'Grape___healthy', 'Orange___Haunglongbing_(Citrus_greening)', 'Peach___Bacterial_spot', 'Peach___healthy', 'Pepper,_bell___Bacterial_spot', 'Pepper,_bell___healthy', 'Potato___Early_blight', 'Potato___healthy', 'Potato___Late_blight', 'Raspberry___healthy', 'Soybean___healthy', 'Squash___Powdery_mildew', 'Strawberry___healthy', 'Strawberry___Leaf_scorch', 'Tomato___Bacterial_spot', 'Tomato___Early_blight', 'Tomato___healthy', 'Tomato___Late_blight', 'Tomato___Leaf_Mold', 'Tomato___Septoria_leaf_spot', 'Tomato___Target_Spot', 'Tomato___Tomato_mosaic_virus', 'Tomato___Tomato_Yellow_Leaf_Curl_Virus']\n",
      "Epoch 1/10, Loss: 1050.7787\n",
      "Epoch 2/10, Loss: 288.7239\n",
      "Epoch 3/10, Loss: 158.4226\n",
      "Epoch 4/10, Loss: 108.2880\n",
      "Epoch 5/10, Loss: 90.0319\n",
      "Epoch 6/10, Loss: 66.9043\n",
      "Epoch 7/10, Loss: 58.9489\n",
      "Epoch 8/10, Loss: 58.5057\n",
      "Epoch 9/10, Loss: 46.1251\n",
      "Epoch 10/10, Loss: 54.1771\n",
      "***Training Metrics***\n",
      "Accuracy: 0.9956, Precision: 0.9956, Recall: 0.9956, F1-Score: 0.9956\n",
      "***Testing Metrics***\n",
      "Accuracy: 0.9529, Precision: 0.9529, Recall: 0.9529, F1-Score: 0.9529\n"
     ]
    }
   ],
   "source": [
    "import torch\n",
    "from torch import nn, optim\n",
    "from torch.utils.data import DataLoader\n",
    "import torchvision\n",
    "from torchvision import datasets, transforms\n",
    "from sklearn.metrics import accuracy_score, precision_score, recall_score, f1_score\n",
    "import os\n",
    "\n",
    "# Image Transformations (Normalization for RGB Images)\n",
    "image_transforms = transforms.Compose([\n",
    "    transforms.Resize((224, 224)),  # Resize images to 224x224 for better model compatibility\n",
    "    transforms.ToTensor(),\n",
    "    transforms.Normalize([0.485, 0.456, 0.406], [0.229, 0.224, 0.225])  # Standard normalization for RGB\n",
    "])\n",
    "\n",
    "# Load Plant Disease Datasets\n",
    "print(os.listdir(r'C:\\Users\\Dell\\OneDrive\\Desktop\\database\\Plant_disease_detection\\archive (6)\\New Plant Diseases Dataset(Augmented)\\New Plant Diseases Dataset(Augmented)\\train'))\n",
    "train_dataset = datasets.ImageFolder(root=r'C:\\Users\\Dell\\OneDrive\\Desktop\\database\\Plant_disease_detection\\archive (6)\\New Plant Diseases Dataset(Augmented)\\New Plant Diseases Dataset(Augmented)\\train', transform=image_transforms)\n",
    "test_dataset = datasets.ImageFolder(root=r'C:\\Users\\Dell\\OneDrive\\Desktop\\database\\Plant_disease_detection\\archive (6)\\New Plant Diseases Dataset(Augmented)\\New Plant Diseases Dataset(Augmented)\\valid', transform=image_transforms)\n",
    "\n",
    "train_loader = DataLoader(dataset=train_dataset, batch_size=64, shuffle=True)\n",
    "test_loader = DataLoader(dataset=test_dataset, batch_size=64, shuffle=True)\n",
    "\n",
    "# Define CNN Model for Plant Disease Detection\n",
    "class CNN_plant_disease(nn.Module):\n",
    "    def __init__(self):\n",
    "        super(CNN_plant_disease, self).__init__()\n",
    "        self.conv1 = nn.Conv2d(in_channels=3, out_channels=16, kernel_size=3)  # 222x222\n",
    "        self.maxpool1 = nn.MaxPool2d(kernel_size=2, stride=2)  # 111x111\n",
    "        self.conv2 = nn.Conv2d(in_channels=16, out_channels=32, kernel_size=3)  # 109x109\n",
    "        self.maxpool2 = nn.MaxPool2d(kernel_size=2, stride=2)  # 54x54\n",
    "        self.conv3 = nn.Conv2d(in_channels=32, out_channels=64, kernel_size=3)  # 52x52\n",
    "        self.maxpool3 = nn.MaxPool2d(kernel_size=2, stride=2)  # 26x26\n",
    "        self.fc1 = nn.Linear(64 * 26 * 26, 512)  # Fully connected layer\n",
    "        self.fc2 = nn.Linear(512, 256)\n",
    "        self.fc3 = nn.Linear(256, len(train_dataset.classes))  # Output layer for plant disease classes\n",
    "        self.relu = nn.ReLU()\n",
    "        self.dropout = nn.Dropout(0.5)  # Prevent overfitting\n",
    "\n",
    "    def forward(self, X):\n",
    "        X = self.relu(self.maxpool1(self.conv1(X)))\n",
    "        X = self.relu(self.maxpool2(self.conv2(X)))\n",
    "        X = self.relu(self.maxpool3(self.conv3(X)))\n",
    "        X = X.view(X.size(0), -1)  # Flatten\n",
    "        X = self.relu(self.fc1(X))\n",
    "        X = self.dropout(self.relu(self.fc2(X)))\n",
    "        X = self.fc3(X)\n",
    "        return X\n",
    "\n",
    "# Initialize Model, Loss Function, and Optimizer\n",
    "model = CNN_plant_disease()\n",
    "criterion = nn.CrossEntropyLoss()\n",
    "optimizer = optim.Adam(model.parameters(), lr=0.001)\n",
    "\n",
    "# Training Loop\n",
    "num_epochs = 10\n",
    "for epoch in range(1, num_epochs + 1):\n",
    "    model.train()\n",
    "    total_loss = 0\n",
    "    for inputs, labels in train_loader:\n",
    "        optimizer.zero_grad()  # Reset gradients\n",
    "        outputs = model(inputs)\n",
    "        loss = criterion(outputs, labels)\n",
    "        loss.backward()\n",
    "        optimizer.step()\n",
    "        total_loss += loss.item()\n",
    "    \n",
    "    print(f\"Epoch {epoch}/{num_epochs}, Loss: {total_loss:.4f}\")\n",
    "\n",
    "# Evaluation Function\n",
    "def evaluate(loader):\n",
    "    model.eval()\n",
    "    all_preds = []\n",
    "    all_labels = []\n",
    "    with torch.no_grad():\n",
    "        for inputs, labels in loader:\n",
    "            outputs = model(inputs)\n",
    "            preds = torch.argmax(outputs, dim=1)\n",
    "            all_preds.extend(preds.cpu().numpy())\n",
    "            all_labels.extend(labels.cpu().numpy())\n",
    "    \n",
    "    accuracy = accuracy_score(all_labels, all_preds)\n",
    "    precision = precision_score(all_labels, all_preds, average='micro')\n",
    "    recall = recall_score(all_labels, all_preds, average='micro')\n",
    "    f1 = f1_score(all_labels, all_preds, average='micro')\n",
    "    \n",
    "    return accuracy, precision, recall, f1\n",
    "\n",
    "# Evaluate Training and Testing Metrics\n",
    "train_acc, train_prec, train_recall, train_f1 = evaluate(train_loader)\n",
    "print(\"***Training Metrics***\")\n",
    "print(f\"Accuracy: {train_acc:.4f}, Precision: {train_prec:.4f}, Recall: {train_recall:.4f}, F1-Score: {train_f1:.4f}\")\n",
    "\n",
    "test_acc, test_prec, test_recall, test_f1 = evaluate(test_loader)\n",
    "print(\"***Testing Metrics***\")\n",
    "print(f\"Accuracy: {test_acc:.4f}, Precision: {test_prec:.4f}, Recall: {test_recall:.4f}, F1-Score: {test_f1:.4f}\")\n",
    "\n",
    "\n"
   ]
  },
  {
   "cell_type": "code",
   "execution_count": 2,
   "metadata": {},
   "outputs": [
    {
     "name": "stdout",
     "output_type": "stream",
     "text": [
      "Model saved as 'emotion_detection_model.pth'\n"
     ]
    }
   ],
   "source": [
    "torch.save(model.state_dict(), 'plant_disease_detection_model.pth')\n",
    "print(\"Model saved as 'emotion_detection_model.pth'\")"
   ]
  },
  {
   "cell_type": "code",
   "execution_count": 3,
   "metadata": {},
   "outputs": [
    {
     "data": {
      "text/plain": [
       "35"
      ]
     },
     "execution_count": 3,
     "metadata": {},
     "output_type": "execute_result"
    }
   ],
   "source": [
    "len(train_dataset.classes)"
   ]
  }
 ],
 "metadata": {
  "kernelspec": {
   "display_name": "base",
   "language": "python",
   "name": "python3"
  },
  "language_info": {
   "codemirror_mode": {
    "name": "ipython",
    "version": 3
   },
   "file_extension": ".py",
   "mimetype": "text/x-python",
   "name": "python",
   "nbconvert_exporter": "python",
   "pygments_lexer": "ipython3",
   "version": "3.11.4"
  }
 },
 "nbformat": 4,
 "nbformat_minor": 2
}
